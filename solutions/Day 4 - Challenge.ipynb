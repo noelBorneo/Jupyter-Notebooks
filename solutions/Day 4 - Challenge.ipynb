{
 "cells": [
  {
   "cell_type": "markdown",
   "metadata": {},
   "source": [
    "# Day 4 - Challenge\n",
    "\n",
    "You and your friend (let's call him) Kenny, have decided to start an online website that aggregates movie and TV show data streamed by Netflix.\n",
    "\n",
    "So far, you have conducted preliminary analysis on the individual datasets and managed to append them into one large dataset. Kenny calls to inform you that he is still configuring the website's database. Meanwhile, Kenny wants you to carry out further exploratory analysis of the appended dataset.\n",
    "\n",
    "## Summary of Skills Demonstrated\n",
    "- Exploring data using summary statistics\n",
    "- Exploring data using graph tasks\n",
    "\n",
    "---"
   ]
  },
  {
   "cell_type": "code",
   "execution_count": 81,
   "metadata": {},
   "outputs": [
    {
     "name": "stdout",
     "output_type": "stream",
     "text": [
      "<class 'pandas.core.frame.DataFrame'>\n",
      "Int64Index: 500 entries, 0 to 36\n",
      "Data columns (total 7 columns):\n",
      "title                500 non-null object\n",
      "rating               500 non-null object\n",
      "ratingLevel          467 non-null object\n",
      "ratingDescription    500 non-null int64\n",
      "release_year         500 non-null int64\n",
      "user_rating_score    256 non-null float64\n",
      "user_rating_size     500 non-null int64\n",
      "dtypes: float64(1), int64(3), object(3)\n",
      "memory usage: 31.2+ KB\n"
     ]
    }
   ],
   "source": [
    "import numpy as np\n",
    "import pandas as pd\n",
    "import matplotlib.pyplot as plt\n",
    "import seaborn as sns\n",
    "\n",
    "%matplotlib inline\n",
    "\n",
    "netflix_final = pd.read_csv('../datasets/netflix_final.csv')\n",
    "netflix_final.info()"
   ]
  },
  {
   "cell_type": "markdown",
   "metadata": {},
   "source": [
    "### Summary Statistics\n",
    "Generate `Summary Statistics` for the `NETFLIX_FINAL`, analysing the **user_rating_score** by **rating**. Use the resulting table to answer the following questions.\n",
    "\n",
    "> **Question 1:** *What is the average **user_rating_score** for **R**?*\n",
    "- The average user rating score for the rating *R* is 85.29"
   ]
  },
  {
   "cell_type": "code",
   "execution_count": 93,
   "metadata": {},
   "outputs": [],
   "source": [
    "rating_byScore = netflix_final[['rating', 'user_rating_score']]\n",
    "x = rating_byScore.groupby('rating')\n",
    "y = x.describe()"
   ]
  },
  {
   "cell_type": "code",
   "execution_count": 94,
   "metadata": {},
   "outputs": [
    {
     "data": {
      "text/plain": [
       "user_rating_score  count     7.000000\n",
       "                   mean     85.285714\n",
       "                   std       8.994707\n",
       "                   min      77.000000\n",
       "                   25%      78.500000\n",
       "                   50%      79.000000\n",
       "                   75%      93.500000\n",
       "                   max      97.000000\n",
       "Name: R, dtype: float64"
      ]
     },
     "execution_count": 94,
     "metadata": {},
     "output_type": "execute_result"
    }
   ],
   "source": [
    "y.loc['R']"
   ]
  },
  {
   "cell_type": "markdown",
   "metadata": {},
   "source": [
    "> **Question 2:** *What is the highest **user_rating_score** for **G**?*\n",
    "- The highest user rating score for the rating *G* is 96"
   ]
  },
  {
   "cell_type": "code",
   "execution_count": 95,
   "metadata": {},
   "outputs": [
    {
     "data": {
      "text/plain": [
       "user_rating_score  count    19.000000\n",
       "                   mean     74.421053\n",
       "                   std      14.893383\n",
       "                   min      55.000000\n",
       "                   25%      62.500000\n",
       "                   50%      70.000000\n",
       "                   75%      88.500000\n",
       "                   max      96.000000\n",
       "Name: G, dtype: float64"
      ]
     },
     "execution_count": 95,
     "metadata": {},
     "output_type": "execute_result"
    }
   ],
   "source": [
    "y.loc['G']"
   ]
  },
  {
   "cell_type": "markdown",
   "metadata": {},
   "source": [
    "### Data Exploration\n",
    "Generate a `Data Exploration` for the `NETFLIX_FINAL` dataset using the **user_rating_score** variable.\n",
    "\n",
    "> **Question 3:** *What is the median user_rating_score?*"
   ]
  },
  {
   "cell_type": "code",
   "execution_count": 70,
   "metadata": {},
   "outputs": [
    {
     "data": {
      "text/plain": [
       "count    256.000000\n",
       "mean      81.398438\n",
       "std       12.730904\n",
       "min       55.000000\n",
       "25%       71.000000\n",
       "50%       83.500000\n",
       "75%       93.000000\n",
       "max       99.000000\n",
       "Name: user_rating_score, dtype: float64"
      ]
     },
     "execution_count": 70,
     "metadata": {},
     "output_type": "execute_result"
    }
   ],
   "source": [
    "netflix_final.user_rating_score.describe()"
   ]
  },
  {
   "cell_type": "code",
   "execution_count": null,
   "metadata": {},
   "outputs": [],
   "source": []
  }
 ],
 "metadata": {
  "kernelspec": {
   "display_name": "Python 3",
   "language": "python",
   "name": "python3"
  },
  "language_info": {
   "codemirror_mode": {
    "name": "ipython",
    "version": 3
   },
   "file_extension": ".py",
   "mimetype": "text/x-python",
   "name": "python",
   "nbconvert_exporter": "python",
   "pygments_lexer": "ipython3",
   "version": "3.6.5"
  }
 },
 "nbformat": 4,
 "nbformat_minor": 2
}
