{
 "cells": [
  {
   "cell_type": "markdown",
   "metadata": {},
   "source": [
    "# Day 3 Challenge\n",
    "\n",
    "Youand your friend (let's call him) Kenny, have decided to start an online website that aggregates movie and TV show data, streamed by Netflix.\n",
    "\n",
    "Kenny finished up with the 2017 releases data and sent it over to you today. You need to import this file to run a quick analysis on the data just like the other data. You notice that the delimiter in this file is different to the 2016 data. Kenny asks if you can merge the datasets together so the data can be uploaded to the website in one file.\n",
    "\n",
    "Kenny also wants you to analyse the user rating scores of movies over the years to see which year has produced the best movies.\n",
    "\n",
    "## Summary of Skills Demonstrated\n",
    "- Importing a delimited file\n",
    "- Joining datasets\n",
    "- Filtering datasets\n",
    "- Understanding variable types\n",
    "- Graphing with bar chart\n",
    "---"
   ]
  },
  {
   "cell_type": "markdown",
   "metadata": {},
   "source": [
    "### Importing Data\n",
    "\n",
    "Import the `Netflix_2017.txt` file. Save the dataset as `NETFLIX_2017`."
   ]
  },
  {
   "cell_type": "code",
   "execution_count": 31,
   "metadata": {},
   "outputs": [],
   "source": [
    "# load modules\n",
    "import numpy as np\n",
    "import pandas as pd # for data analysis\n",
    "import matplotlib.pyplot as plt # for creating graphs\n",
    "\n",
    "# function to read text file\n",
    "def read_txt(text_file):\n",
    "    f = open(text_file, 'r')\n",
    "    data = list(f)\n",
    "    dataframe = []\n",
    "    delim = '|' # assign delimiter\n",
    "    \n",
    "    # read data and splits each row by a delimiter\n",
    "    for row in data:\n",
    "        row = row.split(delim)\n",
    "        row[-1] = row[-1].strip()\n",
    "        dataframe.append(row)\n",
    "    \n",
    "    # create DataFrame object\n",
    "    df = pd.DataFrame(dataframe[1:])\n",
    "    df.columns = dataframe[0]\n",
    "    \n",
    "    # change the type of columns\n",
    "    df.ratingDescription = df.ratingDescription.apply(int)\n",
    "    df.release_year = df.release_year.str.replace(\"''\",'').astype(int)\n",
    "    df.user_rating_size = df.user_rating_size.str.replace(\"''\",'').astype(int)\n",
    "    \n",
    "    # replaces 'NA' strings with numpy NaN\n",
    "    for i in range(len(df.user_rating_score)):\n",
    "        if df.user_rating_score.iloc[i]=='NA':\n",
    "            df.user_rating_score.iloc[i] = np.nan\n",
    "        else:\n",
    "            df.user_rating_score.iloc[i] = float(df.user_rating_score.iloc[i])\n",
    "\n",
    "    df.user_rating_score = df.user_rating_score.astype(float)\n",
    "    \n",
    "    return df"
   ]
  },
  {
   "cell_type": "code",
   "execution_count": 35,
   "metadata": {},
   "outputs": [
    {
     "name": "stderr",
     "output_type": "stream",
     "text": [
      "/anaconda3/lib/python3.6/site-packages/pandas/core/indexing.py:189: SettingWithCopyWarning: \n",
      "A value is trying to be set on a copy of a slice from a DataFrame\n",
      "\n",
      "See the caveats in the documentation: http://pandas.pydata.org/pandas-docs/stable/indexing.html#indexing-view-versus-copy\n",
      "  self._setitem_with_indexer(indexer, value)\n"
     ]
    },
    {
     "name": "stdout",
     "output_type": "stream",
     "text": [
      "<class 'pandas.core.frame.DataFrame'>\n",
      "RangeIndex: 37 entries, 0 to 36\n",
      "Data columns (total 7 columns):\n",
      "title                37 non-null object\n",
      "rating               37 non-null object\n",
      "ratingLevel          37 non-null object\n",
      "ratingDescription    37 non-null int64\n",
      "release_year         37 non-null int64\n",
      "user_rating_score    16 non-null float64\n",
      "user_rating_size     37 non-null int64\n",
      "dtypes: float64(1), int64(3), object(3)\n",
      "memory usage: 2.1+ KB\n"
     ]
    },
    {
     "data": {
      "text/html": [
       "<div>\n",
       "<style scoped>\n",
       "    .dataframe tbody tr th:only-of-type {\n",
       "        vertical-align: middle;\n",
       "    }\n",
       "\n",
       "    .dataframe tbody tr th {\n",
       "        vertical-align: top;\n",
       "    }\n",
       "\n",
       "    .dataframe thead th {\n",
       "        text-align: right;\n",
       "    }\n",
       "</style>\n",
       "<table border=\"1\" class=\"dataframe\">\n",
       "  <thead>\n",
       "    <tr style=\"text-align: right;\">\n",
       "      <th></th>\n",
       "      <th>title</th>\n",
       "      <th>rating</th>\n",
       "      <th>ratingLevel</th>\n",
       "      <th>ratingDescription</th>\n",
       "      <th>release_year</th>\n",
       "      <th>user_rating_score</th>\n",
       "      <th>user_rating_size</th>\n",
       "    </tr>\n",
       "  </thead>\n",
       "  <tbody>\n",
       "    <tr>\n",
       "      <th>0</th>\n",
       "      <td>The Vampire Diaries</td>\n",
       "      <td>TV-14</td>\n",
       "      <td>Parents strongly cautioned. May be unsuitable ...</td>\n",
       "      <td>90</td>\n",
       "      <td>2017</td>\n",
       "      <td>91.0</td>\n",
       "      <td>80</td>\n",
       "    </tr>\n",
       "    <tr>\n",
       "      <th>1</th>\n",
       "      <td>Marvel's Iron Fist</td>\n",
       "      <td>TV-MA</td>\n",
       "      <td></td>\n",
       "      <td>110</td>\n",
       "      <td>2017</td>\n",
       "      <td>98.0</td>\n",
       "      <td>80</td>\n",
       "    </tr>\n",
       "    <tr>\n",
       "      <th>2</th>\n",
       "      <td>Santa Clarita Diet</td>\n",
       "      <td>TV-MA</td>\n",
       "      <td>For mature audiences.  May not be suitable for...</td>\n",
       "      <td>110</td>\n",
       "      <td>2017</td>\n",
       "      <td>82.0</td>\n",
       "      <td>80</td>\n",
       "    </tr>\n",
       "  </tbody>\n",
       "</table>\n",
       "</div>"
      ],
      "text/plain": [
       "                 title rating  \\\n",
       "0  The Vampire Diaries  TV-14   \n",
       "1   Marvel's Iron Fist  TV-MA   \n",
       "2   Santa Clarita Diet  TV-MA   \n",
       "\n",
       "                                         ratingLevel  ratingDescription  \\\n",
       "0  Parents strongly cautioned. May be unsuitable ...                 90   \n",
       "1                                                                   110   \n",
       "2  For mature audiences.  May not be suitable for...                110   \n",
       "\n",
       "   release_year  user_rating_score  user_rating_size  \n",
       "0          2017               91.0                80  \n",
       "1          2017               98.0                80  \n",
       "2          2017               82.0                80  "
      ]
     },
     "execution_count": 35,
     "metadata": {},
     "output_type": "execute_result"
    }
   ],
   "source": [
    "# read dataset\n",
    "netflix_2017 = read_txt('../datasets/Netflix_2017.txt')\n",
    "\n",
    "# Display information\n",
    "netflix_2017.info()\n",
    "\n",
    "# Display first 3 rows of the dataset\n",
    "netflix_2017.head(3)"
   ]
  },
  {
   "cell_type": "markdown",
   "metadata": {},
   "source": [
    "Import the `Netflix_2016.csv` file. Save the dataset as `NETFLIX_2016`"
   ]
  },
  {
   "cell_type": "code",
   "execution_count": 36,
   "metadata": {},
   "outputs": [],
   "source": [
    "# csv file was encoded as UTF-8 to prevent decoding errors by pandas read_csv function\n",
    "netflix_2016 = pd.read_csv('../datasets/netflix_2016_encoded.csv', sep='#')"
   ]
  },
  {
   "cell_type": "markdown",
   "metadata": {},
   "source": [
    "Import the `Netflix_1940_2015.csv` file. Save the dataset as `Netflix_1940_2015`"
   ]
  },
  {
   "cell_type": "code",
   "execution_count": 37,
   "metadata": {},
   "outputs": [],
   "source": [
    "netflix_1940_2015 = pd.read_csv('../datasets/NETFLIX_1940_2015.csv')"
   ]
  },
  {
   "cell_type": "markdown",
   "metadata": {},
   "source": [
    "### Joining Datasets\n",
    "Append the following datasets into one output dataset: `NETFLIX_1940_2015`, `Netflix_2016` and `NETFLIX_2017`. Save the following output data set as `NETFLIX_APPENDED`.\n",
    "> **Question 1:** *How many observations are in the NETFLIX_APPENDED dataset*?"
   ]
  },
  {
   "cell_type": "code",
   "execution_count": 40,
   "metadata": {},
   "outputs": [
    {
     "data": {
      "text/html": [
       "<div>\n",
       "<style scoped>\n",
       "    .dataframe tbody tr th:only-of-type {\n",
       "        vertical-align: middle;\n",
       "    }\n",
       "\n",
       "    .dataframe tbody tr th {\n",
       "        vertical-align: top;\n",
       "    }\n",
       "\n",
       "    .dataframe thead th {\n",
       "        text-align: right;\n",
       "    }\n",
       "</style>\n",
       "<table border=\"1\" class=\"dataframe\">\n",
       "  <thead>\n",
       "    <tr style=\"text-align: right;\">\n",
       "      <th></th>\n",
       "      <th>title</th>\n",
       "      <th>rating</th>\n",
       "      <th>ratingLevel</th>\n",
       "      <th>ratingDescription</th>\n",
       "      <th>release_year</th>\n",
       "      <th>user_rating_score</th>\n",
       "      <th>user_rating_size</th>\n",
       "    </tr>\n",
       "  </thead>\n",
       "  <tbody>\n",
       "    <tr>\n",
       "      <th>0</th>\n",
       "      <td>White Chicks</td>\n",
       "      <td>PG-13</td>\n",
       "      <td>crude and sexual humor, language and some drug...</td>\n",
       "      <td>80</td>\n",
       "      <td>2004</td>\n",
       "      <td>82.0</td>\n",
       "      <td>80</td>\n",
       "    </tr>\n",
       "    <tr>\n",
       "      <th>1</th>\n",
       "      <td>Lucky Number Slevin</td>\n",
       "      <td>R</td>\n",
       "      <td>strong violence, sexual content and adult lang...</td>\n",
       "      <td>100</td>\n",
       "      <td>2006</td>\n",
       "      <td>NaN</td>\n",
       "      <td>82</td>\n",
       "    </tr>\n",
       "    <tr>\n",
       "      <th>2</th>\n",
       "      <td>Prison Break</td>\n",
       "      <td>TV-14</td>\n",
       "      <td>Parents strongly cautioned. May be unsuitable ...</td>\n",
       "      <td>90</td>\n",
       "      <td>2008</td>\n",
       "      <td>98.0</td>\n",
       "      <td>80</td>\n",
       "    </tr>\n",
       "  </tbody>\n",
       "</table>\n",
       "</div>"
      ],
      "text/plain": [
       "                 title rating  \\\n",
       "0         White Chicks  PG-13   \n",
       "1  Lucky Number Slevin      R   \n",
       "2         Prison Break  TV-14   \n",
       "\n",
       "                                         ratingLevel  ratingDescription  \\\n",
       "0  crude and sexual humor, language and some drug...                 80   \n",
       "1  strong violence, sexual content and adult lang...                100   \n",
       "2  Parents strongly cautioned. May be unsuitable ...                 90   \n",
       "\n",
       "   release_year  user_rating_score  user_rating_size  \n",
       "0          2004               82.0                80  \n",
       "1          2006                NaN                82  \n",
       "2          2008               98.0                80  "
      ]
     },
     "execution_count": 40,
     "metadata": {},
     "output_type": "execute_result"
    }
   ],
   "source": [
    "# appending all three datasets\n",
    "netflix_appended = netflix_1940_2015.append(netflix_2016).append(netflix_2017)\n",
    "\n",
    "# Display information\n",
    "netflix_appended.info()\n",
    "\n",
    "# Display first 3 rows\n",
    "netflix_appended.head(3)"
   ]
  },
  {
   "cell_type": "code",
   "execution_count": 50,
   "metadata": {},
   "outputs": [
    {
     "data": {
      "text/plain": [
       "500"
      ]
     },
     "execution_count": 50,
     "metadata": {},
     "output_type": "execute_result"
    }
   ],
   "source": [
    "# Display number of observations in the netflix_appended dataset\n",
    "len(netflix_appended)"
   ]
  },
  {
   "cell_type": "markdown",
   "metadata": {},
   "source": [
    "### Filtering Dataset\n",
    "Filter the `NETFLIX_APPENDED` dataset to show the titles that do not have **NA** as a **user_rating_score**. Output the resulting dataset as NETFLIX_APPENDED_FILTERED.\n",
    "\n",
    "> **Question 2:** *How many titles in the Netflix_appended do not have a user_rating score of 'NA'*"
   ]
  },
  {
   "cell_type": "code",
   "execution_count": 44,
   "metadata": {},
   "outputs": [],
   "source": [
    "netflix_appended_filtered = netflix_appended[netflix_appended.user_rating_score.notna()]"
   ]
  },
  {
   "cell_type": "code",
   "execution_count": 45,
   "metadata": {},
   "outputs": [
    {
     "data": {
      "text/plain": [
       "256"
      ]
     },
     "execution_count": 45,
     "metadata": {},
     "output_type": "execute_result"
    }
   ],
   "source": [
    "# Display number of observations in the netflix_appended dataset\n",
    "len(netflix_appended_filtered)"
   ]
  },
  {
   "cell_type": "markdown",
   "metadata": {},
   "source": [
    "### Graphing with Bar Chart\n",
    "\n",
    "Using a bar chart with the `NETFLIX_APPENDED_NUMERIC` dataset as the data source, analyse how the average user_rating_score for movies fluctuates over the years\n",
    "\n",
    "> **Question 4:** *What is the mean of the year with the highest user_rating_score?*"
   ]
  },
  {
   "cell_type": "code",
   "execution_count": 46,
   "metadata": {},
   "outputs": [
    {
     "data": {
      "image/png": "[encoded data removed]",
      "text/plain": [
       "<Figure size 720x360 with 1 Axes>"
      ]
     },
     "metadata": {},
     "output_type": "display_data"
    }
   ],
   "source": [
    "# mean user rating score for movies each year\n",
    "release_year = netflix_appended_filtered.release_year.unique()\n",
    "release_year.sort()\n",
    "mean_movie_year = []\n",
    "for year in release_year:\n",
    "    x = netflix_appended_filtered[netflix_appended_filtered.release_year==year]\n",
    "    x = x.user_rating_score\n",
    "    mean_movie_year.append(np.mean(x))\n",
    "\n",
    "# Create a figure\n",
    "fig, ax = plt.subplots(figsize=(10, 5))\n",
    "\n",
    "# Positions\n",
    "bar_positions = np.arange(32)\n",
    "\n",
    "# Height\n",
    "bar_heights = ax.bar(bar_positions, mean_movie_year, 0.5)\n",
    "\n",
    "# Set x-axis tick positions\n",
    "tick_positions = range(0, 32)\n",
    "ax.set_xticks(tick_positions)\n",
    "ax.set_xticklabels(release_year, rotation=90)\n",
    "\n",
    "# Set axes labels\n",
    "ax.set_xlabel(\"Release Year\")\n",
    "ax.set_ylabel(\"Frequency\")\n",
    "ax.set_title('Movie Titles Released from 1940 to 2015')\n",
    "\n",
    "# Add gridlines and display plot\n",
    "plt.grid()\n",
    "plt.show()"
   ]
  },
  {
   "cell_type": "code",
   "execution_count": 49,
   "metadata": {},
   "outputs": [
    {
     "name": "stdout",
     "output_type": "stream",
     "text": [
      "(2002, 90.5)\n"
     ]
    }
   ],
   "source": [
    "dict_mean_year = {}\n",
    "i = 0\n",
    "for year in release_year:\n",
    "    dict_mean_year[year] = mean_movie_year[i]\n",
    "    i+=1\n",
    "\n",
    "print((sorted(dict_mean_year.items() , key=lambda x: x[1], reverse=True))[0])"
   ]
  },
  {
   "cell_type": "code",
   "execution_count": null,
   "metadata": {},
   "outputs": [],
   "source": []
  }
 ],
 "metadata": {
  "kernelspec": {
   "display_name": "Python 3",
   "language": "python",
   "name": "python3"
  },
  "language_info": {
   "codemirror_mode": {
    "name": "ipython",
    "version": 3
   },
   "file_extension": ".py",
   "mimetype": "text/x-python",
   "name": "python",
   "nbconvert_exporter": "python",
   "pygments_lexer": "ipython3",
   "version": "3.6.5"
  }
 },
 "nbformat": 4,
 "nbformat_minor": 2
}
