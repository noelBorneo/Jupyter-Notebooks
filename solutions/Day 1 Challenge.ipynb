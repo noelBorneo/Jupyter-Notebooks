{
 "cells": [
  {
   "cell_type": "markdown",
   "metadata": {},
   "source": [
    "# Day 1 Challenge\n",
    "\n",
    "You and your friend (let’s call him) Kenny, have decided to start an online website that aggregates movie and TV show data streamed by Netflix.\n",
    "\n",
    "Kenny read an article that SAS University Edition would be the perfect free tool to analyse the data he has collected from Netflix before uploading it to the website’s database.\n",
    "\n",
    "Before you upload the data, you’ll need to see what data you’re working with. You’ll import and clean the data by sorting, filtering and visualising some variables.\n",
    "\n",
    "\n",
    "## Summary of Skills Demonstrated\n",
    "- Importing data\n",
    "- Filtering data\n",
    "- Sorting data\n",
    "- Generating a simple bar chart\n",
    "---"
   ]
  },
  {
   "cell_type": "markdown",
   "metadata": {},
   "source": [
    "### Importing Data\n",
    "Create a new data set from the `NETFLIX_1940_2015` data set. "
   ]
  },
  {
   "cell_type": "code",
   "execution_count": 36,
   "metadata": {},
   "outputs": [
    {
     "name": "stdout",
     "output_type": "stream",
     "text": [
      "<class 'pandas.core.frame.DataFrame'>\n",
      "RangeIndex: 317 entries, 0 to 316\n",
      "Data columns (total 7 columns):\n",
      "title                317 non-null object\n",
      "rating               317 non-null object\n",
      "ratingLevel          315 non-null object\n",
      "ratingDescription    317 non-null int64\n",
      "release_year         317 non-null int64\n",
      "user_rating_score    154 non-null float64\n",
      "user_rating_size     317 non-null int64\n",
      "dtypes: float64(1), int64(3), object(3)\n",
      "memory usage: 17.4+ KB\n"
     ]
    },
    {
     "data": {
      "text/html": [
       "<div>\n",
       "<style scoped>\n",
       "    .dataframe tbody tr th:only-of-type {\n",
       "        vertical-align: middle;\n",
       "    }\n",
       "\n",
       "    .dataframe tbody tr th {\n",
       "        vertical-align: top;\n",
       "    }\n",
       "\n",
       "    .dataframe thead th {\n",
       "        text-align: right;\n",
       "    }\n",
       "</style>\n",
       "<table border=\"1\" class=\"dataframe\">\n",
       "  <thead>\n",
       "    <tr style=\"text-align: right;\">\n",
       "      <th></th>\n",
       "      <th>title</th>\n",
       "      <th>rating</th>\n",
       "      <th>ratingLevel</th>\n",
       "      <th>ratingDescription</th>\n",
       "      <th>release_year</th>\n",
       "      <th>user_rating_score</th>\n",
       "      <th>user_rating_size</th>\n",
       "    </tr>\n",
       "  </thead>\n",
       "  <tbody>\n",
       "    <tr>\n",
       "      <th>0</th>\n",
       "      <td>White Chicks</td>\n",
       "      <td>PG-13</td>\n",
       "      <td>crude and sexual humor, language and some drug...</td>\n",
       "      <td>80</td>\n",
       "      <td>2004</td>\n",
       "      <td>82.0</td>\n",
       "      <td>80</td>\n",
       "    </tr>\n",
       "    <tr>\n",
       "      <th>1</th>\n",
       "      <td>Lucky Number Slevin</td>\n",
       "      <td>R</td>\n",
       "      <td>strong violence, sexual content and adult lang...</td>\n",
       "      <td>100</td>\n",
       "      <td>2006</td>\n",
       "      <td>NaN</td>\n",
       "      <td>82</td>\n",
       "    </tr>\n",
       "    <tr>\n",
       "      <th>2</th>\n",
       "      <td>Prison Break</td>\n",
       "      <td>TV-14</td>\n",
       "      <td>Parents strongly cautioned. May be unsuitable ...</td>\n",
       "      <td>90</td>\n",
       "      <td>2008</td>\n",
       "      <td>98.0</td>\n",
       "      <td>80</td>\n",
       "    </tr>\n",
       "    <tr>\n",
       "      <th>3</th>\n",
       "      <td>How I Met Your Mother</td>\n",
       "      <td>TV-PG</td>\n",
       "      <td>Parental guidance suggested. May not be suitab...</td>\n",
       "      <td>70</td>\n",
       "      <td>2014</td>\n",
       "      <td>94.0</td>\n",
       "      <td>80</td>\n",
       "    </tr>\n",
       "    <tr>\n",
       "      <th>4</th>\n",
       "      <td>Breaking Bad</td>\n",
       "      <td>TV-MA</td>\n",
       "      <td>For mature audiences.  May not be suitable for...</td>\n",
       "      <td>110</td>\n",
       "      <td>2013</td>\n",
       "      <td>97.0</td>\n",
       "      <td>80</td>\n",
       "    </tr>\n",
       "  </tbody>\n",
       "</table>\n",
       "</div>"
      ],
      "text/plain": [
       "                   title rating  \\\n",
       "0           White Chicks  PG-13   \n",
       "1    Lucky Number Slevin      R   \n",
       "2           Prison Break  TV-14   \n",
       "3  How I Met Your Mother  TV-PG   \n",
       "4           Breaking Bad  TV-MA   \n",
       "\n",
       "                                         ratingLevel  ratingDescription  \\\n",
       "0  crude and sexual humor, language and some drug...                 80   \n",
       "1  strong violence, sexual content and adult lang...                100   \n",
       "2  Parents strongly cautioned. May be unsuitable ...                 90   \n",
       "3  Parental guidance suggested. May not be suitab...                 70   \n",
       "4  For mature audiences.  May not be suitable for...                110   \n",
       "\n",
       "   release_year  user_rating_score  user_rating_size  \n",
       "0          2004               82.0                80  \n",
       "1          2006                NaN                82  \n",
       "2          2008               98.0                80  \n",
       "3          2014               94.0                80  \n",
       "4          2013               97.0                80  "
      ]
     },
     "execution_count": 36,
     "metadata": {},
     "output_type": "execute_result"
    }
   ],
   "source": [
    "# load modules\n",
    "import numpy as np\n",
    "import pandas as pd # for data analysis\n",
    "import matplotlib.pyplot as plt # for creating graphs\n",
    "\n",
    "# read dataset\n",
    "netflix_1940_2015 = pd.read_csv('../datasets/NETFLIX_1940_2015.csv')\n",
    "\n",
    "# Display information\n",
    "netflix_1940_2015.info()\n",
    "\n",
    "# Display first 5 rows of the dataset\n",
    "netflix_1940_2015.head()"
   ]
  },
  {
   "cell_type": "markdown",
   "metadata": {},
   "source": [
    "Ensure that the new data set only contains records which **do not contain ‘NA’** as the `user_rating_score` and only contains movies **since the year 2000**. Save the output dataset in the NETFLIX library as `‘NETFLIX_1940_2015_FILTERED’`.\n",
    "\n",
    "> **Question 1:** *How many titles were released since the year 2000 and do not have ‘NA’ as the user_rating_score value?*"
   ]
  },
  {
   "cell_type": "code",
   "execution_count": 30,
   "metadata": {},
   "outputs": [
    {
     "data": {
      "text/plain": [
       "123"
      ]
     },
     "execution_count": 30,
     "metadata": {},
     "output_type": "execute_result"
    }
   ],
   "source": [
    "# Filter dataset which do not contain missing values\n",
    "netflix_1940_2015_filtered = netflix_1940_2015.dropna(subset=['user_rating_score'])\n",
    "\n",
    "# Filter dataset which only contains movies since year 2000\n",
    "netflix_1940_2015_filtered = netflix_1940_2015_filtered[netflix_1940_2015_filtered.release_year >= 2000]\n",
    "\n",
    "# display number of titles since year 2000 that contains a user rating score\n",
    "len(netflix_1940_2015_filtered)"
   ]
  },
  {
   "cell_type": "markdown",
   "metadata": {},
   "source": [
    "Sort the `NETFLIX_1940_2015_FILTERED` data set in **descending order** by `user_rating_score`. \n",
    "\n",
    "Also drop the variables:\n",
    "- `user_rating_size`\n",
    "- `ratingDescription`\n",
    "- `rating`\n",
    "- `release_year`\n",
    "- `ratingLevel` \n",
    "\n",
    "> **Question 2:** *What are the 3 most popular titles and the 3 least popular titles by user_rating_score?*"
   ]
  },
  {
   "cell_type": "code",
   "execution_count": 31,
   "metadata": {},
   "outputs": [],
   "source": [
    "# Sort the dataset in descending order by user_rating_score\n",
    "netflix_1940_2015_filtered.sort_values(by='user_rating_score', ascending=False, inplace=True)\n",
    "netflix_1940_2015_filtered.reset_index(drop=True, inplace=True)\n",
    "\n",
    "# Drop variables\n",
    "subplot = netflix_1940_2015_filtered.drop(['user_rating_size', 'ratingDescription', \n",
    "                                 'rating', 'release_year', 'ratingLevel'], \n",
    "                                axis=1)"
   ]
  },
  {
   "cell_type": "markdown",
   "metadata": {},
   "source": [
    "### 3 most popular titles by user rating score"
   ]
  },
  {
   "cell_type": "code",
   "execution_count": 32,
   "metadata": {},
   "outputs": [
    {
     "data": {
      "text/html": [
       "<div>\n",
       "<style scoped>\n",
       "    .dataframe tbody tr th:only-of-type {\n",
       "        vertical-align: middle;\n",
       "    }\n",
       "\n",
       "    .dataframe tbody tr th {\n",
       "        vertical-align: top;\n",
       "    }\n",
       "\n",
       "    .dataframe thead th {\n",
       "        text-align: right;\n",
       "    }\n",
       "</style>\n",
       "<table border=\"1\" class=\"dataframe\">\n",
       "  <thead>\n",
       "    <tr style=\"text-align: right;\">\n",
       "      <th></th>\n",
       "      <th>title</th>\n",
       "      <th>user_rating_score</th>\n",
       "    </tr>\n",
       "  </thead>\n",
       "  <tbody>\n",
       "    <tr>\n",
       "      <th>0</th>\n",
       "      <td>Lost</td>\n",
       "      <td>98.0</td>\n",
       "    </tr>\n",
       "    <tr>\n",
       "      <th>1</th>\n",
       "      <td>The Walking Dead</td>\n",
       "      <td>98.0</td>\n",
       "    </tr>\n",
       "    <tr>\n",
       "      <th>2</th>\n",
       "      <td>Prison Break</td>\n",
       "      <td>98.0</td>\n",
       "    </tr>\n",
       "  </tbody>\n",
       "</table>\n",
       "</div>"
      ],
      "text/plain": [
       "              title  user_rating_score\n",
       "0              Lost               98.0\n",
       "1  The Walking Dead               98.0\n",
       "2      Prison Break               98.0"
      ]
     },
     "execution_count": 32,
     "metadata": {},
     "output_type": "execute_result"
    }
   ],
   "source": [
    "subplot.head(3)"
   ]
  },
  {
   "cell_type": "markdown",
   "metadata": {},
   "source": [
    "### 3 least popular titles by user rating score"
   ]
  },
  {
   "cell_type": "code",
   "execution_count": 33,
   "metadata": {},
   "outputs": [
    {
     "data": {
      "text/html": [
       "<div>\n",
       "<style scoped>\n",
       "    .dataframe tbody tr th:only-of-type {\n",
       "        vertical-align: middle;\n",
       "    }\n",
       "\n",
       "    .dataframe tbody tr th {\n",
       "        vertical-align: top;\n",
       "    }\n",
       "\n",
       "    .dataframe thead th {\n",
       "        text-align: right;\n",
       "    }\n",
       "</style>\n",
       "<table border=\"1\" class=\"dataframe\">\n",
       "  <thead>\n",
       "    <tr style=\"text-align: right;\">\n",
       "      <th></th>\n",
       "      <th>title</th>\n",
       "      <th>user_rating_score</th>\n",
       "    </tr>\n",
       "  </thead>\n",
       "  <tbody>\n",
       "    <tr>\n",
       "      <th>120</th>\n",
       "      <td>DreamWorks Shrek's Swamp Stories</td>\n",
       "      <td>56.0</td>\n",
       "    </tr>\n",
       "    <tr>\n",
       "      <th>121</th>\n",
       "      <td>Curious George</td>\n",
       "      <td>55.0</td>\n",
       "    </tr>\n",
       "    <tr>\n",
       "      <th>122</th>\n",
       "      <td>Life Unexpected</td>\n",
       "      <td>55.0</td>\n",
       "    </tr>\n",
       "  </tbody>\n",
       "</table>\n",
       "</div>"
      ],
      "text/plain": [
       "                                title  user_rating_score\n",
       "120  DreamWorks Shrek's Swamp Stories               56.0\n",
       "121                    Curious George               55.0\n",
       "122                   Life Unexpected               55.0"
      ]
     },
     "execution_count": 33,
     "metadata": {},
     "output_type": "execute_result"
    }
   ],
   "source": [
    "subplot.tail(3)"
   ]
  },
  {
   "cell_type": "markdown",
   "metadata": {},
   "source": [
    "Create a bar chart using the `NETFLIX_1940_2015_FILTERED` data set and select the appropriate category and measure to answer Question 3.\n",
    "\n",
    "> **Question 3:** *Which year in the dataset has the most movie titles?*"
   ]
  },
  {
   "cell_type": "code",
   "execution_count": 73,
   "metadata": {},
   "outputs": [
    {
     "data": {
      "image/png": "[encoded data removed]",
      "text/plain": [
       "<Figure size 720x360 with 1 Axes>"
      ]
     },
     "metadata": {},
     "output_type": "display_data"
    }
   ],
   "source": [
    "# count movie titles each year\n",
    "release_year = netflix_1940_2015_filtered.release_year.unique()\n",
    "release_year.sort()\n",
    "count_movie_year = [netflix_1940_2015_filtered.release_year.tolist().count(year) for year in release_year]\n",
    "\n",
    "# Create a figure\n",
    "fig, ax = plt.subplots(figsize=(10, 5))\n",
    "\n",
    "# Positions\n",
    "bar_positions = np.arange(16)\n",
    "\n",
    "# Height\n",
    "bar_heights = ax.bar(bar_positions, count_movie_year, 0.5)\n",
    "\n",
    "# Set x-axis tick positions\n",
    "tick_positions = range(0, 16)\n",
    "ax.set_xticks(tick_positions)\n",
    "ax.set_xticklabels(release_year, rotation=90)\n",
    "\n",
    "# Set axes labels\n",
    "ax.set_xlabel(\"Release Year\")\n",
    "ax.set_ylabel(\"Frequency\")\n",
    "ax.set_title('Movie Titles Released from 2000 to 2015')\n",
    "\n",
    "# Add gridlines and display plot\n",
    "plt.grid()\n",
    "plt.show()"
   ]
  }
 ],
 "metadata": {
  "kernelspec": {
   "display_name": "Python 3",
   "language": "python",
   "name": "python3"
  },
  "language_info": {
   "codemirror_mode": {
    "name": "ipython",
    "version": 3
   },
   "file_extension": ".py",
   "mimetype": "text/x-python",
   "name": "python",
   "nbconvert_exporter": "python",
   "pygments_lexer": "ipython3",
   "version": "3.6.5"
  }
 },
 "nbformat": 4,
 "nbformat_minor": 2
}
